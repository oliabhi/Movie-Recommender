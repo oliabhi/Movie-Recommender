{
 "cells": [
  {
   "cell_type": "markdown",
   "id": "4539ab05-0ddf-490b-97be-14e186599fc6",
   "metadata": {
    "id": "7ed15c49-4a14-48d3-9b95-73a4f00a1bca"
   },
   "source": [
    "# This notebook is a tester notebook\n",
    "    - imports the stemmed movie dataset exported through movie_recommender_v1_preprocessing notebook\n",
    "    - dataset used - train_v2_stem.csv"
   ]
  },
  {
   "cell_type": "code",
   "execution_count": 2,
   "id": "3804576e-ea2f-4ff5-ba2e-851f2502058e",
   "metadata": {},
   "outputs": [],
   "source": [
    "import pandas as pd\n",
    "import numpy as np"
   ]
  },
  {
   "cell_type": "code",
   "execution_count": 3,
   "id": "19e8a3eb-9b5d-449a-b8d5-e8be13e84067",
   "metadata": {
    "id": "19e8a3eb-9b5d-449a-b8d5-e8be13e84067"
   },
   "outputs": [],
   "source": [
    "movie_data = pd.read_csv('train_v2_stem.csv')"
   ]
  },
  {
   "cell_type": "code",
   "execution_count": 4,
   "id": "0U3N_0M7f-M4",
   "metadata": {
    "colab": {
     "base_uri": "https://localhost:8080/",
     "height": 419
    },
    "id": "0U3N_0M7f-M4",
    "outputId": "85ba6261-f536-4684-e92a-5198853f116b"
   },
   "outputs": [
    {
     "data": {
      "text/html": [
       "<div>\n",
       "<style scoped>\n",
       "    .dataframe tbody tr th:only-of-type {\n",
       "        vertical-align: middle;\n",
       "    }\n",
       "\n",
       "    .dataframe tbody tr th {\n",
       "        vertical-align: top;\n",
       "    }\n",
       "\n",
       "    .dataframe thead th {\n",
       "        text-align: right;\n",
       "    }\n",
       "</style>\n",
       "<table border=\"1\" class=\"dataframe\">\n",
       "  <thead>\n",
       "    <tr style=\"text-align: right;\">\n",
       "      <th></th>\n",
       "      <th>id</th>\n",
       "      <th>title</th>\n",
       "      <th>tags</th>\n",
       "    </tr>\n",
       "  </thead>\n",
       "  <tbody>\n",
       "    <tr>\n",
       "      <th>0</th>\n",
       "      <td>862</td>\n",
       "      <td>Toy Story</td>\n",
       "      <td>anim comedi famili unitedstatesofamerica engli...</td>\n",
       "    </tr>\n",
       "    <tr>\n",
       "      <th>1</th>\n",
       "      <td>8844</td>\n",
       "      <td>Jumanji</td>\n",
       "      <td>adventur fantasi famili unitedstatesofamerica ...</td>\n",
       "    </tr>\n",
       "    <tr>\n",
       "      <th>2</th>\n",
       "      <td>15602</td>\n",
       "      <td>Grumpier Old Men</td>\n",
       "      <td>romanc comedi unitedstatesofamerica english wa...</td>\n",
       "    </tr>\n",
       "    <tr>\n",
       "      <th>3</th>\n",
       "      <td>31357</td>\n",
       "      <td>Waiting to Exhale</td>\n",
       "      <td>comedi drama romanc unitedstatesofamerica engl...</td>\n",
       "    </tr>\n",
       "    <tr>\n",
       "      <th>4</th>\n",
       "      <td>11862</td>\n",
       "      <td>Father of the Bride Part II</td>\n",
       "      <td>comedi unitedstatesofamerica english stevemart...</td>\n",
       "    </tr>\n",
       "    <tr>\n",
       "      <th>...</th>\n",
       "      <td>...</td>\n",
       "      <td>...</td>\n",
       "      <td>...</td>\n",
       "    </tr>\n",
       "    <tr>\n",
       "      <th>44470</th>\n",
       "      <td>439050</td>\n",
       "      <td>Subdue</td>\n",
       "      <td>drama famili iran فارسی leilahatami kouroshtah...</td>\n",
       "    </tr>\n",
       "    <tr>\n",
       "      <th>44471</th>\n",
       "      <td>111109</td>\n",
       "      <td>Century of Birthing</td>\n",
       "      <td>drama philippin angelaquino perrydizon hazelor...</td>\n",
       "    </tr>\n",
       "    <tr>\n",
       "      <th>44472</th>\n",
       "      <td>67758</td>\n",
       "      <td>Betrayal</td>\n",
       "      <td>action drama thriller unitedstatesofamerica en...</td>\n",
       "    </tr>\n",
       "    <tr>\n",
       "      <th>44473</th>\n",
       "      <td>227506</td>\n",
       "      <td>Satan Triumphant</td>\n",
       "      <td>russia iwanmosschuchin nathalielissenko pavelp...</td>\n",
       "    </tr>\n",
       "    <tr>\n",
       "      <th>44474</th>\n",
       "      <td>461257</td>\n",
       "      <td>Queerama</td>\n",
       "      <td>unitedkingdom english daisyasquith 50 year aft...</td>\n",
       "    </tr>\n",
       "  </tbody>\n",
       "</table>\n",
       "<p>44475 rows × 3 columns</p>\n",
       "</div>"
      ],
      "text/plain": [
       "           id                        title  \\\n",
       "0         862                    Toy Story   \n",
       "1        8844                      Jumanji   \n",
       "2       15602             Grumpier Old Men   \n",
       "3       31357            Waiting to Exhale   \n",
       "4       11862  Father of the Bride Part II   \n",
       "...       ...                          ...   \n",
       "44470  439050                       Subdue   \n",
       "44471  111109          Century of Birthing   \n",
       "44472   67758                     Betrayal   \n",
       "44473  227506             Satan Triumphant   \n",
       "44474  461257                     Queerama   \n",
       "\n",
       "                                                    tags  \n",
       "0      anim comedi famili unitedstatesofamerica engli...  \n",
       "1      adventur fantasi famili unitedstatesofamerica ...  \n",
       "2      romanc comedi unitedstatesofamerica english wa...  \n",
       "3      comedi drama romanc unitedstatesofamerica engl...  \n",
       "4      comedi unitedstatesofamerica english stevemart...  \n",
       "...                                                  ...  \n",
       "44470  drama famili iran فارسی leilahatami kouroshtah...  \n",
       "44471  drama philippin angelaquino perrydizon hazelor...  \n",
       "44472  action drama thriller unitedstatesofamerica en...  \n",
       "44473  russia iwanmosschuchin nathalielissenko pavelp...  \n",
       "44474  unitedkingdom english daisyasquith 50 year aft...  \n",
       "\n",
       "[44475 rows x 3 columns]"
      ]
     },
     "execution_count": 4,
     "metadata": {},
     "output_type": "execute_result"
    }
   ],
   "source": [
    "movie_data"
   ]
  },
  {
   "cell_type": "code",
   "execution_count": 5,
   "id": "7ab15f25-010e-40af-8bd4-306d2cbd8e19",
   "metadata": {
    "colab": {
     "base_uri": "https://localhost:8080/"
    },
    "id": "7ab15f25-010e-40af-8bd4-306d2cbd8e19",
    "outputId": "5844df72-cec1-4a0b-c2fd-56b9d2aa6fe0"
   },
   "outputs": [
    {
     "data": {
      "text/plain": [
       "id       0\n",
       "title    0\n",
       "tags     0\n",
       "dtype: int64"
      ]
     },
     "execution_count": 5,
     "metadata": {},
     "output_type": "execute_result"
    }
   ],
   "source": [
    "movie_data.isna().sum()"
   ]
  },
  {
   "cell_type": "markdown",
   "id": "e02fbc54",
   "metadata": {},
   "source": [
    "-- MODEL TRAINING MODELS"
   ]
  },
  {
   "cell_type": "code",
   "execution_count": 6,
   "id": "d186a45c-be4a-4152-9f5e-cb2e14b4b7ba",
   "metadata": {
    "colab": {
     "base_uri": "https://localhost:8080/"
    },
    "id": "d186a45c-be4a-4152-9f5e-cb2e14b4b7ba",
    "outputId": "d4fc8004-25cc-4a0c-c19b-1b5af7978914"
   },
   "outputs": [
    {
     "data": {
      "text/plain": [
       "(44475, 3)"
      ]
     },
     "execution_count": 6,
     "metadata": {},
     "output_type": "execute_result"
    }
   ],
   "source": [
    "movie_data.shape"
   ]
  },
  {
   "cell_type": "markdown",
   "id": "dae41917-de9c-464a-a9ef-315991e942b6",
   "metadata": {
    "id": "dae41917-de9c-464a-a9ef-315991e942b6"
   },
   "source": [
    "# Writing tester function\n",
    "    - model used - CountVectorizer\n",
    "    - Logic used - cosine similarity"
   ]
  },
  {
   "cell_type": "code",
   "execution_count": 7,
   "id": "cd790219-fb4a-4f27-a1a0-0c9a1d72c51c",
   "metadata": {},
   "outputs": [],
   "source": [
    "from sklearn.feature_extraction.text import CountVectorizer\n",
    "from sklearn.metrics.pairwise import cosine_similarity"
   ]
  },
  {
   "cell_type": "code",
   "execution_count": 8,
   "id": "8ac59099-3d8b-4aed-9d6b-dcca2b1c0b5c",
   "metadata": {
    "id": "8ac59099-3d8b-4aed-9d6b-dcca2b1c0b5c"
   },
   "outputs": [],
   "source": [
    "# gave best results\n",
    "#8000/1000\n",
    "test_case1 = 8000"
   ]
  },
  {
   "cell_type": "code",
   "execution_count": 9,
   "id": "886ad43b-7fa4-44dd-b026-a6e237de5a9c",
   "metadata": {},
   "outputs": [],
   "source": [
    "test_case2 = 10000"
   ]
  },
  {
   "cell_type": "code",
   "execution_count": 10,
   "id": "6d865dc3-438b-4b73-af02-19ebaad268c6",
   "metadata": {
    "id": "6d865dc3-438b-4b73-af02-19ebaad268c6"
   },
   "outputs": [],
   "source": [
    "train_data = movie_data.head(test_case1)\n",
    "#train_data.to_csv(\"train_data_8000.csv\",index=False)"
   ]
  },
  {
   "cell_type": "code",
   "execution_count": 11,
   "id": "be382e81-c7f2-413e-a888-a4f19a3f1b9d",
   "metadata": {},
   "outputs": [
    {
     "data": {
      "text/plain": [
       "(8000, 3)"
      ]
     },
     "execution_count": 11,
     "metadata": {},
     "output_type": "execute_result"
    }
   ],
   "source": [
    "train_data.shape"
   ]
  },
  {
   "cell_type": "code",
   "execution_count": 13,
   "id": "4a99eded-ab3a-428e-b47a-40e5bb27c3c7",
   "metadata": {
    "id": "4a99eded-ab3a-428e-b47a-40e5bb27c3c7"
   },
   "outputs": [],
   "source": [
    "cv = CountVectorizer(max_features=1000,stop_words='english')"
   ]
  },
  {
   "cell_type": "code",
   "execution_count": 14,
   "id": "38a9dd96-8f8c-4759-bb96-b45a30bb424b",
   "metadata": {
    "id": "38a9dd96-8f8c-4759-bb96-b45a30bb424b"
   },
   "outputs": [],
   "source": [
    "vectors=cv.fit_transform(train_data['tags'].values.astype('U')\n",
    ").toarray()"
   ]
  },
  {
   "cell_type": "code",
   "execution_count": 15,
   "id": "37999f4f-eef8-4108-9538-5eb421d570b7",
   "metadata": {
    "id": "37999f4f-eef8-4108-9538-5eb421d570b7"
   },
   "outputs": [],
   "source": [
    "similarity = cosine_similarity(vectors)"
   ]
  },
  {
   "cell_type": "code",
   "execution_count": 16,
   "id": "e17d28f0-88b8-4be4-a319-c397cf654dba",
   "metadata": {
    "colab": {
     "base_uri": "https://localhost:8080/"
    },
    "id": "e17d28f0-88b8-4be4-a319-c397cf654dba",
    "outputId": "daf48c14-0f1b-48d0-b81a-1c133d098cd9"
   },
   "outputs": [
    {
     "data": {
      "text/plain": [
       "1"
      ]
     },
     "execution_count": 16,
     "metadata": {},
     "output_type": "execute_result"
    }
   ],
   "source": [
    "train_data[train_data['title'] == 'Jumanji'].index[0]"
   ]
  },
  {
   "cell_type": "code",
   "execution_count": 17,
   "id": "e84c7a62-1b80-4612-8000-ba0944881f23",
   "metadata": {
    "id": "e84c7a62-1b80-4612-8000-ba0944881f23"
   },
   "outputs": [],
   "source": [
    "def recommend(movie):\n",
    "    index = train_data[train_data['title'] == movie].index[0]\n",
    "    distances = sorted(list(enumerate(similarity[index])),reverse=True,key = lambda x: x[1])\n",
    "    for i in distances[1:6]:\n",
    "        print(train_data.iloc[i[0]].title)"
   ]
  },
  {
   "cell_type": "code",
   "execution_count": 18,
   "id": "885c85e1-6781-4a98-90a9-2e953517d6b4",
   "metadata": {
    "colab": {
     "base_uri": "https://localhost:8080/"
    },
    "id": "885c85e1-6781-4a98-90a9-2e953517d6b4",
    "outputId": "cc1fb4ff-1cde-47ab-e9c1-dd8639b598c5"
   },
   "outputs": [
    {
     "name": "stdout",
     "output_type": "stream",
     "text": [
      "Father of the Bride\n",
      "About Schmidt\n",
      "All Night Long\n",
      "Nine Months\n",
      "Leonard Part 6\n"
     ]
    }
   ],
   "source": [
    "recommend('Father of the Bride Part II')"
   ]
  },
  {
   "cell_type": "code",
   "execution_count": 17,
   "id": "77d19327-cda6-4e8c-8c6a-408c586f6266",
   "metadata": {},
   "outputs": [
    {
     "name": "stdout",
     "output_type": "stream",
     "text": [
      "Midnight Cowboy\n",
      "The City\n",
      "American Psycho\n",
      "Band of the Hand\n",
      "Serpico\n"
     ]
    }
   ],
   "source": [
    "recommend('Taxi Driver')"
   ]
  },
  {
   "cell_type": "code",
   "execution_count": 18,
   "id": "0ba0eb19-de2a-4b91-bc87-675b8c6b5c5f",
   "metadata": {},
   "outputs": [
    {
     "name": "stdout",
     "output_type": "stream",
     "text": [
      "Highlander\n",
      "The Toxic Avenger Part III: The Last Temptation of Toxie\n",
      "Batman Forever\n",
      "Superman\n",
      "Penitentiary II\n"
     ]
    }
   ],
   "source": [
    "recommend('Batman')"
   ]
  },
  {
   "cell_type": "code",
   "execution_count": 19,
   "id": "df7e0c01-a60a-430e-b3d7-503591278739",
   "metadata": {},
   "outputs": [
    {
     "name": "stdout",
     "output_type": "stream",
     "text": [
      "Brainscan\n",
      "Dungeons & Dragons\n",
      "The Last of Sheila\n",
      "Bill & Ted's Bogus Journey\n",
      "Super Mario Bros.\n"
     ]
    }
   ],
   "source": [
    "recommend('Jumanji')"
   ]
  },
  {
   "cell_type": "code",
   "execution_count": null,
   "id": "da32b300-8b69-4e57-8ba0-4bb07c8a74cf",
   "metadata": {},
   "outputs": [],
   "source": [
    "recommend('Toy Story')"
   ]
  },
  {
   "cell_type": "code",
   "execution_count": 19,
   "id": "d7526a0e-ac22-4ffb-bae9-f3d53e271835",
   "metadata": {},
   "outputs": [],
   "source": [
    "import pickle"
   ]
  },
  {
   "cell_type": "code",
   "execution_count": 20,
   "id": "09638969-2d45-4846-9d02-d3ad39903ded",
   "metadata": {},
   "outputs": [],
   "source": [
    "pickle.dump(similarity,open('similarity_test.pkl','wb'))"
   ]
  }
 ],
 "metadata": {
  "colab": {
   "name": "test_CYCLIC.ipynb",
   "provenance": []
  },
  "kernelspec": {
   "display_name": "Python 3",
   "language": "python",
   "name": "python3"
  },
  "language_info": {
   "codemirror_mode": {
    "name": "ipython",
    "version": 3
   },
   "file_extension": ".py",
   "mimetype": "text/x-python",
   "name": "python",
   "nbconvert_exporter": "python",
   "pygments_lexer": "ipython3",
   "version": "3.8.8"
  }
 },
 "nbformat": 4,
 "nbformat_minor": 5
}
